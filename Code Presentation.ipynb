{
 "cells": [
  {
   "cell_type": "markdown",
   "id": "7157436e-d60f-4c31-b293-5fc595d7e4b2",
   "metadata": {},
   "source": [
    "Code Presentation: NumPy HW #4, 5"
   ]
  },
  {
   "cell_type": "code",
   "execution_count": null,
   "id": "8496b372-14f2-4ec8-a831-02d6c6c87edf",
   "metadata": {},
   "outputs": [],
   "source": [
    "#4. Find the position of the first occurrence of a value greater than 1.0 in petalwidth 4th column of iris dataset. Use the iris dataset available from \n",
    "#https://archive.ics.uci.edu/ml/machine-learning-databases/iris/iris.data Links to an external site.. (20 Points)\n",
    "import numpy as np\n",
    "import pandas as pd\n",
    "url = \"https://archive.ics.uci.edu/ml/machine-learning-databases/iris/iris.data\"\n",
    "iris = pd.read_csv(url , header = None)\n",
    "\n",
    "for row in iris.index:\n",
    "    if iris[3][row] > 1:\n",
    "        print('4. Row #:' , row)\n",
    "        break"
   ]
  },
  {
   "cell_type": "code",
   "execution_count": null,
   "id": "750a795d-0ce0-4d96-a759-f0bca7959088",
   "metadata": {},
   "outputs": [],
   "source": [
    "#5. From the array a, replace all values greater than 30 to 30 and less than 10 to 10.\n",
    "#Input:\n",
    "#np.random.seed(100)\n",
    "#a = np.random.uniform(1,50, 20) (20 Points)\n",
    "\n",
    "np.random.seed(100)\n",
    "a = np.random.uniform(1, 50, 20)\n",
    "print(a)\n",
    "\n",
    "mask = (a > 30) | (a < 10)\n",
    "a[mask] = np.where(a[mask] > 30, 30, 10)\n",
    "print(\"\\n\",a)"
   ]
  }
 ],
 "metadata": {
  "kernelspec": {
   "display_name": "Python 3 (ipykernel)",
   "language": "python",
   "name": "python3"
  },
  "language_info": {
   "codemirror_mode": {
    "name": "ipython",
    "version": 3
   },
   "file_extension": ".py",
   "mimetype": "text/x-python",
   "name": "python",
   "nbconvert_exporter": "python",
   "pygments_lexer": "ipython3",
   "version": "3.12.5"
  }
 },
 "nbformat": 4,
 "nbformat_minor": 5
}
